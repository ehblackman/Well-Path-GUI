{
 "cells": [
  {
   "cell_type": "code",
   "execution_count": 10,
   "metadata": {},
   "outputs": [
    {
     "data": {
      "application/vnd.plotly.v1+json": {
       "config": {
        "plotlyServerURL": "https://plot.ly"
       },
       "data": [
        {
         "hovertemplate": "well=Test<br>east=%{x}<br>north=%{y}<br>tvd=%{z}<extra></extra>",
         "legendgroup": "Test",
         "line": {
          "color": "#636efa",
          "dash": "solid"
         },
         "marker": {
          "symbol": "circle"
         },
         "mode": "lines",
         "name": "Test",
         "scene": "scene",
         "showlegend": true,
         "type": "scatter3d",
         "x": [
          103.25503,
          103.25503,
          276.1177255624759,
          608.8468353115384
         ],
         "y": [
          49.20584,
          49.20584,
          336.89767748843263,
          1052.304884981288
         ],
         "z": [
          0,
          100,
          910.2846845413954,
          1518.474657729913
         ]
        },
        {
         "marker": {
          "color": "red",
          "size": 10
         },
         "name": "Sample 0",
         "type": "scatter3d",
         "x": [
          -50.5723713410799
         ],
         "y": [
          141.63466759320227
         ],
         "z": [
          715.6999978461021
         ]
        },
        {
         "marker": {
          "color": "red",
          "size": 10
         },
         "name": "Sample 1",
         "type": "scatter3d",
         "x": [
          347.8655974691798
         ],
         "y": [
          462.8197695450079
         ],
         "z": [
          1048.0660038561914
         ]
        }
       ],
       "layout": {
        "images": [
         {
          "sizex": 0.2,
          "sizey": 0.2,
          "source": "https://avatars.githubusercontent.com/u/53001276?v=4",
          "x": 0.35,
          "xanchor": "right",
          "xref": "paper",
          "y": 0.91,
          "yanchor": "bottom",
          "yref": "paper"
         }
        ],
        "legend": {
         "title": {
          "text": "well"
         },
         "tracegroupgap": 0
        },
        "margin": {
         "t": 60
        },
        "scene": {
         "aspectmode": "manual",
         "domain": {
          "x": [
           0,
           1
          ],
          "y": [
           0,
           1
          ]
         },
         "xaxis": {
          "title": {
           "text": "East, m"
          }
         },
         "yaxis": {
          "title": {
           "text": "North, m"
          }
         },
         "zaxis": {
          "autorange": "reversed",
          "title": {
           "text": "TVD, m"
          }
         }
        },
        "title": {
         "text": "Wellbore Trajectory - 3D View"
        }
       }
      },
      "text/html": [
       "<div>                            <div id=\"daf7c6ee-4a5a-4067-af95-da2e2903791f\" class=\"plotly-graph-div\" style=\"height:525px; width:100%;\"></div>            <script type=\"text/javascript\">                require([\"plotly\"], function(Plotly) {                    window.PLOTLYENV=window.PLOTLYENV || {};                                    if (document.getElementById(\"daf7c6ee-4a5a-4067-af95-da2e2903791f\")) {                    Plotly.newPlot(                        \"daf7c6ee-4a5a-4067-af95-da2e2903791f\",                        [{\"hovertemplate\":\"well=Test\\u003cbr\\u003eeast=%{x}\\u003cbr\\u003enorth=%{y}\\u003cbr\\u003etvd=%{z}\\u003cextra\\u003e\\u003c\\u002fextra\\u003e\",\"legendgroup\":\"Test\",\"line\":{\"color\":\"#636efa\",\"dash\":\"solid\"},\"marker\":{\"symbol\":\"circle\"},\"mode\":\"lines\",\"name\":\"Test\",\"scene\":\"scene\",\"showlegend\":true,\"x\":[103.25503,103.25503,276.1177255624759,608.8468353115384],\"y\":[49.20584,49.20584,336.89767748843263,1052.304884981288],\"z\":[0.0,100.0,910.2846845413954,1518.474657729913],\"type\":\"scatter3d\"},{\"marker\":{\"color\":\"red\",\"size\":10},\"name\":\"Sample 0\",\"x\":[-50.5723713410799],\"y\":[141.63466759320227],\"z\":[715.6999978461021],\"type\":\"scatter3d\"},{\"marker\":{\"color\":\"red\",\"size\":10},\"name\":\"Sample 1\",\"x\":[347.8655974691798],\"y\":[462.8197695450079],\"z\":[1048.0660038561914],\"type\":\"scatter3d\"}],                        {\"scene\":{\"domain\":{\"x\":[0.0,1.0],\"y\":[0.0,1.0]},\"xaxis\":{\"title\":{\"text\":\"East, m\"}},\"yaxis\":{\"title\":{\"text\":\"North, m\"}},\"zaxis\":{\"title\":{\"text\":\"TVD, m\"},\"autorange\":\"reversed\"},\"aspectmode\":\"manual\"},\"legend\":{\"title\":{\"text\":\"well\"},\"tracegroupgap\":0},\"margin\":{\"t\":60},\"images\":[{\"sizex\":0.2,\"sizey\":0.2,\"source\":\"https:\\u002f\\u002favatars.githubusercontent.com\\u002fu\\u002f53001276?v=4\",\"x\":0.35,\"xanchor\":\"right\",\"xref\":\"paper\",\"y\":0.91,\"yanchor\":\"bottom\",\"yref\":\"paper\"}],\"title\":{\"text\":\"Wellbore Trajectory - 3D View\"}},                        {\"responsive\": true}                    ).then(function(){\n",
       "                            \n",
       "var gd = document.getElementById('daf7c6ee-4a5a-4067-af95-da2e2903791f');\n",
       "var x = new MutationObserver(function (mutations, observer) {{\n",
       "        var display = window.getComputedStyle(gd).display;\n",
       "        if (!display || display === 'none') {{\n",
       "            console.log([gd, 'removed!']);\n",
       "            Plotly.purge(gd);\n",
       "            observer.disconnect();\n",
       "        }}\n",
       "}});\n",
       "\n",
       "// Listen for the removal of the full notebook cells\n",
       "var notebookContainer = gd.closest('#notebook-container');\n",
       "if (notebookContainer) {{\n",
       "    x.observe(notebookContainer, {childList: true});\n",
       "}}\n",
       "\n",
       "// Listen for the clearing of the current output cell\n",
       "var outputEl = gd.closest('.output');\n",
       "if (outputEl) {{\n",
       "    x.observe(outputEl, {childList: true});\n",
       "}}\n",
       "\n",
       "                        })                };                });            </script>        </div>"
      ]
     },
     "metadata": {},
     "output_type": "display_data"
    }
   ],
   "source": [
    "import well_profile as wp\n",
    "import pandas as pd\n",
    "import plotly.graph_objects as go\n",
    "\n",
    "# File import\n",
    "path = 'test well data'\n",
    "collar = 'Collar GUI.csv'\n",
    "survey = 'Survey GUI.csv'\n",
    "sample = 'Sample GUI.csv'\n",
    "\n",
    "collar = pd.read_csv(f'{path}/{collar}')\n",
    "sample = pd.read_csv(f'{path}/{sample}')\n",
    "\n",
    "# Get long and lat of start points\n",
    "for key in collar.keys():\n",
    "    if 'latitude' in key.lower():\n",
    "        lat = collar[key]\n",
    "    elif 'longitude' in key.lower():\n",
    "        long = collar[key]\n",
    "\n",
    "# Get depth of samples\n",
    "for key in sample.keys():\n",
    "    if 'top' in key.lower():\n",
    "        depth = sample[key]\n",
    "\n",
    "# Make well then plot\n",
    "well = wp.load(f'{path}/{survey}',   \n",
    "                units='metric',  # (optional) define system of units 'metric' for meters or 'english' for feet\n",
    "                set_start={'north': lat[0], 'east': long[0], 'depth': 0})  # (optional) set the location of initial point\n",
    "\n",
    "fig = well.plot(names=['Test'])\n",
    "\n",
    "# Plot samples\n",
    "for i, s in enumerate(depth):\n",
    "    y = well.get_point(s)['north']\n",
    "    x = well.get_point(s)['east']\n",
    "    z = well.get_point(s)['tvd']\n",
    "    fig.add_trace(\n",
    "        go.Scatter3d(x=[x], y=[y], z=[z], \n",
    "                     marker=dict(color='red',size=10),\n",
    "                     name=f'Sample {i}'))\n",
    "\n",
    "# Show fig\n",
    "fig.show()\n"
   ]
  },
  {
   "cell_type": "code",
   "execution_count": null,
   "metadata": {},
   "outputs": [],
   "source": []
  }
 ],
 "metadata": {
  "kernelspec": {
   "display_name": "venv",
   "language": "python",
   "name": "python3"
  },
  "language_info": {
   "codemirror_mode": {
    "name": "ipython",
    "version": 3
   },
   "file_extension": ".py",
   "mimetype": "text/x-python",
   "name": "python",
   "nbconvert_exporter": "python",
   "pygments_lexer": "ipython3",
   "version": "3.10.12"
  }
 },
 "nbformat": 4,
 "nbformat_minor": 2
}
