{
 "cells": [
  {
   "cell_type": "code",
   "execution_count": 28,
   "metadata": {},
   "outputs": [
    {
     "data": {
      "application/vnd.plotly.v1+json": {
       "config": {
        "plotlyServerURL": "https://plot.ly"
       },
       "data": [
        {
         "hovertemplate": "well=Test<br>east=%{x}<br>north=%{y}<br>tvd=%{z}<extra></extra>",
         "legendgroup": "Test",
         "line": {
          "color": "#636efa",
          "dash": "solid"
         },
         "marker": {
          "symbol": "circle"
         },
         "mode": "lines",
         "name": "Test",
         "scene": "scene",
         "showlegend": true,
         "type": "scatter3d",
         "x": [
          103.25503,
          103.25503,
          276.1177255624759,
          608.8468353115384
         ],
         "y": [
          49.20584,
          49.20584,
          336.89767748843263,
          1052.304884981288
         ],
         "z": [
          0,
          100,
          910.2846845413954,
          1518.474657729913
         ]
        },
        {
         "marker": {
          "color": "red",
          "size": 10
         },
         "name": "Sample 0",
         "type": "scatter3d",
         "x": [
          103.25503
         ],
         "y": [
          49.20584
         ],
         "z": [
          0
         ]
        },
        {
         "marker": {
          "color": "red",
          "size": 10
         },
         "name": "Sample 1",
         "type": "scatter3d",
         "x": [
          103.25503
         ],
         "y": [
          49.20584
         ],
         "z": [
          80
         ]
        },
        {
         "marker": {
          "color": "red",
          "size": 10
         },
         "name": "Sample 2",
         "type": "scatter3d",
         "x": [
          101.90890233522195
         ],
         "y": [
          50.01467510194866
         ],
         "z": [
          159.97258819004068
         ]
        },
        {
         "marker": {
          "color": "red",
          "size": 10
         },
         "name": "Sample 3",
         "type": "scatter3d",
         "x": [
          95.9335517515261
         ],
         "y": [
          53.60502795257486
         ],
         "z": [
          239.65198058290886
         ]
        },
        {
         "marker": {
          "color": "red",
          "size": 10
         },
         "name": "Sample 4",
         "type": "scatter3d",
         "x": [
          85.20848943756388
         ],
         "y": [
          60.049295533651346
         ],
         "z": [
          318.65100256414513
         ]
        },
        {
         "marker": {
          "color": "red",
          "size": 10
         },
         "name": "Sample 5",
         "type": "scatter3d",
         "x": [
          69.78596681884949
         ],
         "y": [
          69.31608202129864
         ],
         "z": [
          396.58477883961075
         ]
        },
        {
         "marker": {
          "color": "red",
          "size": 10
         },
         "name": "Sample 6",
         "type": "scatter3d",
         "x": [
          49.74112087531465
         ],
         "y": [
          81.36024056324307
         ],
         "z": [
          473.07362388516765
         ]
        },
        {
         "marker": {
          "color": "red",
          "size": 10
         },
         "name": "Sample 7",
         "type": "scatter3d",
         "x": [
          25.171608081495506
         ],
         "y": [
          96.1230932297428
         ],
         "z": [
          547.7448917363854
         ]
        },
        {
         "marker": {
          "color": "red",
          "size": 10
         },
         "name": "Sample 8",
         "type": "scatter3d",
         "x": [
          -3.802871365995344
         ],
         "y": [
          113.53271688656349
         ],
         "z": [
          620.2347914822226
         ]
        },
        {
         "marker": {
          "color": "red",
          "size": 10
         },
         "name": "Sample 9",
         "type": "scatter3d",
         "x": [
          -37.04115671579416
         ],
         "y": [
          133.5042935972583
         ],
         "z": [
          690.1901596177769
         ]
        },
        {
         "marker": {
          "color": "red",
          "size": 10
         },
         "name": "Sample 10",
         "type": "scatter3d",
         "x": [
          -74.38131438277736
         ],
         "y": [
          155.94052384762855
         ],
         "z": [
          757.2701806213806
         ]
        },
        {
         "marker": {
          "color": "red",
          "size": 10
         },
         "name": "Sample 11",
         "type": "scatter3d",
         "x": [
          -115.64142687221116
         ],
         "y": [
          180.73210057917652
         ],
         "z": [
          821.1480473735646
         ]
        },
        {
         "marker": {
          "color": "red",
          "size": 10
         },
         "name": "Sample 12",
         "type": "scatter3d",
         "x": [
          -160.620479063499
         ],
         "y": [
          207.75824172210673
         ],
         "z": [
          881.5125533284928
         ]
        },
        {
         "marker": {
          "color": "red",
          "size": 10
         },
         "name": "Sample 13",
         "type": "scatter3d",
         "x": [
          290.6430285405577
         ],
         "y": [
          361.332460617542
         ],
         "z": [
          938.4260679526491
         ]
        },
        {
         "marker": {
          "color": "red",
          "size": 10
         },
         "name": "Sample 14",
         "type": "scatter3d",
         "x": [
          319.43424286411357
         ],
         "y": [
          411.33381462198764
         ],
         "z": [
          993.8392324137009
         ]
        },
        {
         "marker": {
          "color": "red",
          "size": 10
         },
         "name": "Sample 15",
         "type": "scatter3d",
         "x": [
          347.8655974691798
         ],
         "y": [
          462.8197695450079
         ],
         "z": [
          1048.0660038561914
         ]
        },
        {
         "marker": {
          "color": "red",
          "size": 10
         },
         "name": "Sample 16",
         "type": "scatter3d",
         "x": [
          375.9204722318818
         ],
         "y": [
          515.7602282294146
         ],
         "z": [
          1101.074682923153
         ]
        },
        {
         "marker": {
          "color": "red",
          "size": 10
         },
         "name": "Sample 17",
         "type": "scatter3d",
         "x": [
          403.5824671072578
         ],
         "y": [
          570.1242432584019
         ],
         "z": [
          1152.8342823181747
         ]
        },
        {
         "marker": {
          "color": "red",
          "size": 10
         },
         "name": "Sample 18",
         "type": "scatter3d",
         "x": [
          430.83541171623733
         ],
         "y": [
          625.8800350464855
         ],
         "z": [
          1203.3145449196522
         ]
        },
        {
         "marker": {
          "color": "red",
          "size": 10
         },
         "name": "Sample 19",
         "type": "scatter3d",
         "x": [
          457.663374798364
         ],
         "y": [
          682.995010416903
         ],
         "z": [
          1252.4859614682027
         ]
        },
        {
         "marker": {
          "color": "red",
          "size": 10
         },
         "name": "Sample 20",
         "type": "scatter3d",
         "x": [
          484.05067352473554
         ],
         "y": [
          741.4357816546142
         ],
         "z": [
          1300.319787816898
         ]
        },
        {
         "marker": {
          "color": "red",
          "size": 10
         },
         "name": "Sample 21",
         "type": "scatter3d",
         "x": [
          509.9818826657191
         ],
         "y": [
          801.1681860237669
         ],
         "z": [
          1346.7880617342385
         ]
        },
        {
         "marker": {
          "color": "red",
          "size": 10
         },
         "name": "Sample 22",
         "type": "scatter3d",
         "x": [
          535.4418436080823
         ],
         "y": [
          862.157305738215
         ],
         "z": [
          1391.8636192500417
         ]
        },
        {
         "marker": {
          "color": "red",
          "size": 10
         },
         "name": "Sample 23",
         "type": "scatter3d",
         "x": [
          560.415673216266
         ],
         "y": [
          924.3674883734172
         ],
         "z": [
          1435.5201105346903
         ]
        },
        {
         "marker": {
          "color": "red",
          "size": 10
         },
         "name": "Sample 24",
         "type": "scatter3d",
         "x": [
          584.8887725326242
         ],
         "y": [
          987.7623677077838
         ],
         "z": [
          1477.7320153024586
         ]
        }
       ],
       "layout": {
        "autosize": false,
        "height": 500,
        "images": [
         {
          "sizex": 0.2,
          "sizey": 0.2,
          "source": "https://avatars.githubusercontent.com/u/53001276?v=4",
          "x": 0.35,
          "xanchor": "right",
          "xref": "paper",
          "y": 0.91,
          "yanchor": "bottom",
          "yref": "paper"
         }
        ],
        "legend": {
         "title": {
          "text": "well"
         },
         "tracegroupgap": 0
        },
        "margin": {
         "t": 60
        },
        "scene": {
         "aspectmode": "auto",
         "aspectratio": {
          "x": 0.729809752540408,
          "y": 0.9514003416583108,
          "z": 1.440214020132653
         },
         "domain": {
          "x": [
           0,
           1
          ],
          "y": [
           0,
           1
          ]
         },
         "xaxis": {
          "title": {
           "text": "East, m"
          },
          "type": "linear"
         },
         "yaxis": {
          "title": {
           "text": "North, m"
          },
          "type": "linear"
         },
         "zaxis": {
          "autorange": "reversed",
          "title": {
           "text": "TVD, m"
          },
          "type": "linear"
         }
        },
        "title": {
         "text": "Wellbore Trajectory - 3D View"
        },
        "width": 700
       }
      },
      "image/png": "[encoded data removed]",
      "text/html": [
       "<div>                            <div id=\"2983114a-44cb-471d-9500-ea10e608b64a\" class=\"plotly-graph-div\" style=\"height:500px; width:700px;\"></div>            <script type=\"text/javascript\">                require([\"plotly\"], function(Plotly) {                    window.PLOTLYENV=window.PLOTLYENV || {};                                    if (document.getElementById(\"2983114a-44cb-471d-9500-ea10e608b64a\")) {                    Plotly.newPlot(                        \"2983114a-44cb-471d-9500-ea10e608b64a\",                        [{\"hovertemplate\":\"well=Test\\u003cbr\\u003eeast=%{x}\\u003cbr\\u003enorth=%{y}\\u003cbr\\u003etvd=%{z}\\u003cextra\\u003e\\u003c\\u002fextra\\u003e\",\"legendgroup\":\"Test\",\"line\":{\"color\":\"#636efa\",\"dash\":\"solid\"},\"marker\":{\"symbol\":\"circle\"},\"mode\":\"lines\",\"name\":\"Test\",\"scene\":\"scene\",\"showlegend\":true,\"x\":[103.25503,103.25503,276.1177255624759,608.8468353115384],\"y\":[49.20584,49.20584,336.89767748843263,1052.304884981288],\"z\":[0.0,100.0,910.2846845413954,1518.474657729913],\"type\":\"scatter3d\"},{\"marker\":{\"color\":\"red\",\"size\":10},\"name\":\"Sample 0\",\"x\":[103.25503],\"y\":[49.20584],\"z\":[0],\"type\":\"scatter3d\"},{\"marker\":{\"color\":\"red\",\"size\":10},\"name\":\"Sample 1\",\"x\":[103.25503],\"y\":[49.20584],\"z\":[80],\"type\":\"scatter3d\"},{\"marker\":{\"color\":\"red\",\"size\":10},\"name\":\"Sample 2\",\"x\":[101.90890233522195],\"y\":[50.01467510194866],\"z\":[159.97258819004068],\"type\":\"scatter3d\"},{\"marker\":{\"color\":\"red\",\"size\":10},\"name\":\"Sample 3\",\"x\":[95.9335517515261],\"y\":[53.60502795257486],\"z\":[239.65198058290886],\"type\":\"scatter3d\"},{\"marker\":{\"color\":\"red\",\"size\":10},\"name\":\"Sample 4\",\"x\":[85.20848943756388],\"y\":[60.049295533651346],\"z\":[318.65100256414513],\"type\":\"scatter3d\"},{\"marker\":{\"color\":\"red\",\"size\":10},\"name\":\"Sample 5\",\"x\":[69.78596681884949],\"y\":[69.31608202129864],\"z\":[396.58477883961075],\"type\":\"scatter3d\"},{\"marker\":{\"color\":\"red\",\"size\":10},\"name\":\"Sample 6\",\"x\":[49.74112087531465],\"y\":[81.36024056324307],\"z\":[473.07362388516765],\"type\":\"scatter3d\"},{\"marker\":{\"color\":\"red\",\"size\":10},\"name\":\"Sample 7\",\"x\":[25.171608081495506],\"y\":[96.1230932297428],\"z\":[547.7448917363854],\"type\":\"scatter3d\"},{\"marker\":{\"color\":\"red\",\"size\":10},\"name\":\"Sample 8\",\"x\":[-3.802871365995344],\"y\":[113.53271688656349],\"z\":[620.2347914822226],\"type\":\"scatter3d\"},{\"marker\":{\"color\":\"red\",\"size\":10},\"name\":\"Sample 9\",\"x\":[-37.04115671579416],\"y\":[133.5042935972583],\"z\":[690.1901596177769],\"type\":\"scatter3d\"},{\"marker\":{\"color\":\"red\",\"size\":10},\"name\":\"Sample 10\",\"x\":[-74.38131438277736],\"y\":[155.94052384762855],\"z\":[757.2701806213806],\"type\":\"scatter3d\"},{\"marker\":{\"color\":\"red\",\"size\":10},\"name\":\"Sample 11\",\"x\":[-115.64142687221116],\"y\":[180.73210057917652],\"z\":[821.1480473735646],\"type\":\"scatter3d\"},{\"marker\":{\"color\":\"red\",\"size\":10},\"name\":\"Sample 12\",\"x\":[-160.620479063499],\"y\":[207.75824172210673],\"z\":[881.5125533284928],\"type\":\"scatter3d\"},{\"marker\":{\"color\":\"red\",\"size\":10},\"name\":\"Sample 13\",\"x\":[290.6430285405577],\"y\":[361.332460617542],\"z\":[938.4260679526491],\"type\":\"scatter3d\"},{\"marker\":{\"color\":\"red\",\"size\":10},\"name\":\"Sample 14\",\"x\":[319.43424286411357],\"y\":[411.33381462198764],\"z\":[993.8392324137009],\"type\":\"scatter3d\"},{\"marker\":{\"color\":\"red\",\"size\":10},\"name\":\"Sample 15\",\"x\":[347.8655974691798],\"y\":[462.8197695450079],\"z\":[1048.0660038561914],\"type\":\"scatter3d\"},{\"marker\":{\"color\":\"red\",\"size\":10},\"name\":\"Sample 16\",\"x\":[375.9204722318818],\"y\":[515.7602282294146],\"z\":[1101.074682923153],\"type\":\"scatter3d\"},{\"marker\":{\"color\":\"red\",\"size\":10},\"name\":\"Sample 17\",\"x\":[403.5824671072578],\"y\":[570.1242432584019],\"z\":[1152.8342823181747],\"type\":\"scatter3d\"},{\"marker\":{\"color\":\"red\",\"size\":10},\"name\":\"Sample 18\",\"x\":[430.83541171623733],\"y\":[625.8800350464855],\"z\":[1203.3145449196522],\"type\":\"scatter3d\"},{\"marker\":{\"color\":\"red\",\"size\":10},\"name\":\"Sample 19\",\"x\":[457.663374798364],\"y\":[682.995010416903],\"z\":[1252.4859614682027],\"type\":\"scatter3d\"},{\"marker\":{\"color\":\"red\",\"size\":10},\"name\":\"Sample 20\",\"x\":[484.05067352473554],\"y\":[741.4357816546142],\"z\":[1300.319787816898],\"type\":\"scatter3d\"},{\"marker\":{\"color\":\"red\",\"size\":10},\"name\":\"Sample 21\",\"x\":[509.9818826657191],\"y\":[801.1681860237669],\"z\":[1346.7880617342385],\"type\":\"scatter3d\"},{\"marker\":{\"color\":\"red\",\"size\":10},\"name\":\"Sample 22\",\"x\":[535.4418436080823],\"y\":[862.157305738215],\"z\":[1391.8636192500417],\"type\":\"scatter3d\"},{\"marker\":{\"color\":\"red\",\"size\":10},\"name\":\"Sample 23\",\"x\":[560.415673216266],\"y\":[924.3674883734172],\"z\":[1435.5201105346903],\"type\":\"scatter3d\"},{\"marker\":{\"color\":\"red\",\"size\":10},\"name\":\"Sample 24\",\"x\":[584.8887725326242],\"y\":[987.7623677077838],\"z\":[1477.7320153024586],\"type\":\"scatter3d\"}],                        {\"scene\":{\"domain\":{\"x\":[0.0,1.0],\"y\":[0.0,1.0]},\"xaxis\":{\"title\":{\"text\":\"East, m\"}},\"yaxis\":{\"title\":{\"text\":\"North, m\"}},\"zaxis\":{\"title\":{\"text\":\"TVD, m\"},\"autorange\":\"reversed\"},\"aspectmode\":\"manual\"},\"legend\":{\"title\":{\"text\":\"well\"},\"tracegroupgap\":0},\"margin\":{\"t\":60},\"images\":[{\"sizex\":0.2,\"sizey\":0.2,\"source\":\"https:\\u002f\\u002favatars.githubusercontent.com\\u002fu\\u002f53001276?v=4\",\"x\":0.35,\"xanchor\":\"right\",\"xref\":\"paper\",\"y\":0.91,\"yanchor\":\"bottom\",\"yref\":\"paper\"}],\"title\":{\"text\":\"Wellbore Trajectory - 3D View\"},\"autosize\":false,\"width\":700,\"height\":500},                        {\"responsive\": true}                    ).then(function(){\n",
       "                            \n",
       "var gd = document.getElementById('2983114a-44cb-471d-9500-ea10e608b64a');\n",
       "var x = new MutationObserver(function (mutations, observer) {{\n",
       "        var display = window.getComputedStyle(gd).display;\n",
       "        if (!display || display === 'none') {{\n",
       "            console.log([gd, 'removed!']);\n",
       "            Plotly.purge(gd);\n",
       "            observer.disconnect();\n",
       "        }}\n",
       "}});\n",
       "\n",
       "// Listen for the removal of the full notebook cells\n",
       "var notebookContainer = gd.closest('#notebook-container');\n",
       "if (notebookContainer) {{\n",
       "    x.observe(notebookContainer, {childList: true});\n",
       "}}\n",
       "\n",
       "// Listen for the clearing of the current output cell\n",
       "var outputEl = gd.closest('.output');\n",
       "if (outputEl) {{\n",
       "    x.observe(outputEl, {childList: true});\n",
       "}}\n",
       "\n",
       "                        })                };                });            </script>        </div>"
      ]
     },
     "metadata": {},
     "output_type": "display_data"
    }
   ],
   "source": [
    "import well_profile as wp\n",
    "import pandas as pd\n",
    "import plotly.graph_objects as go\n",
    "\n",
    "# File import\n",
    "path = 'test well data'\n",
    "collar = 'Collar GUI.csv'\n",
    "survey = 'Survey GUI.csv'\n",
    "sample = 'Sample GUI.csv'\n",
    "\n",
    "collar = pd.read_csv(f'{path}/{collar}')\n",
    "sample = pd.read_csv(f'{path}/{sample}')\n",
    "\n",
    "# Get long and lat of start points\n",
    "for key in collar.keys():\n",
    "    if 'latitude' in key.lower():\n",
    "        lat = collar[key]\n",
    "    elif 'longitude' in key.lower():\n",
    "        long = collar[key]\n",
    "\n",
    "# Get depth of samples\n",
    "for key in sample.keys():\n",
    "    if 'top' in key.lower():\n",
    "        depth = sample[key]\n",
    "\n",
    "# Make well then plot\n",
    "well = wp.load(f'{path}/{survey}',   \n",
    "                units='metric',  # (optional) define system of units 'metric' for meters or 'english' for feet\n",
    "                set_start={'north': lat[0], 'east': long[0], 'depth': 0})  # (optional) set the location of initial point\n",
    "\n",
    "fig = well.plot(names=['Test'])\n",
    "\n",
    "# Plot samples\n",
    "depth = range(0, 2000, 80)\n",
    "for i, s in enumerate(depth):\n",
    "    pt = well.get_point(s, 'md')\n",
    "    y = pt['north']\n",
    "    x = pt['east']\n",
    "    z = pt['tvd']\n",
    "    fig.add_trace(\n",
    "        go.Scatter3d(x=[x], y=[y], z=[z], \n",
    "                     marker=dict(color='red',size=10),\n",
    "                     name=f'Sample {i}'))\n",
    "\n",
    "# Show fig\n",
    "fig.update_layout(autosize=False, width=700, height=500)\n",
    "fig.show()\n"
   ]
  },
  {
   "cell_type": "code",
   "execution_count": null,
   "metadata": {},
   "outputs": [],
   "source": []
  }
 ],
 "metadata": {
  "kernelspec": {
   "display_name": "Python 3 (ipykernel)",
   "language": "python",
   "name": "python3"
  },
  "language_info": {
   "codemirror_mode": {
    "name": "ipython",
    "version": 3
   },
   "file_extension": ".py",
   "mimetype": "text/x-python",
   "name": "python",
   "nbconvert_exporter": "python",
   "pygments_lexer": "ipython3",
   "version": "3.10.12"
  }
 },
 "nbformat": 4,
 "nbformat_minor": 4
}
